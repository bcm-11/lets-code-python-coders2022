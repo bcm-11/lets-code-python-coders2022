{
 "cells": [
  {
   "cell_type": "markdown",
   "id": "922ce9ec",
   "metadata": {},
   "source": [
    "# Python Basics II: Estruturas avançadas (Let's Code)"
   ]
  },
  {
   "cell_type": "markdown",
   "id": "96994bbd",
   "metadata": {},
   "source": [
    "Exercícios de Python do curso da Let's Code durante processo seletivo Santander Coders 2022"
   ]
  },
  {
   "cell_type": "markdown",
   "id": "c54ae0d4",
   "metadata": {},
   "source": [
    "### Aula 08 - Listas e Tuplas:"
   ]
  },
  {
   "cell_type": "code",
   "execution_count": 1,
   "id": "18d96fe8",
   "metadata": {},
   "outputs": [
    {
     "name": "stdout",
     "output_type": "stream",
     "text": [
      "['Brasil', 'Argentina', 'China', 'Canadá', 'Japão']\n"
     ]
    }
   ],
   "source": [
    "nomes_paises = ['Brasil', 'Argentina', 'China', 'Canadá', 'Japão']\n",
    "print(nomes_paises)"
   ]
  },
  {
   "cell_type": "code",
   "execution_count": 3,
   "id": "d4d65273",
   "metadata": {},
   "outputs": [
    {
     "name": "stdout",
     "output_type": "stream",
     "text": [
      "Tamanho da lista:  5\n"
     ]
    }
   ],
   "source": [
    "print('Tamanho da lista: ', len(nomes_paises))"
   ]
  },
  {
   "cell_type": "code",
   "execution_count": 4,
   "id": "744ac049",
   "metadata": {},
   "outputs": [
    {
     "name": "stdout",
     "output_type": "stream",
     "text": [
      "País:  Japão\n"
     ]
    }
   ],
   "source": [
    "print('País: ', nomes_paises[4])"
   ]
  },
  {
   "cell_type": "code",
   "execution_count": 5,
   "id": "58920902",
   "metadata": {},
   "outputs": [
    {
     "name": "stdout",
     "output_type": "stream",
     "text": [
      "País:  Japão\n"
     ]
    }
   ],
   "source": [
    "print('País: ', nomes_paises[-1])"
   ]
  },
  {
   "cell_type": "markdown",
   "id": "3352dc3e",
   "metadata": {},
   "source": [
    "Fazendo a substituição de um valor:"
   ]
  },
  {
   "cell_type": "code",
   "execution_count": 7,
   "id": "8236171f",
   "metadata": {},
   "outputs": [
    {
     "name": "stdout",
     "output_type": "stream",
     "text": [
      "País:  Colômbia\n",
      "['Brasil', 'Argentina', 'China', 'Canadá', 'Colômbia']\n"
     ]
    }
   ],
   "source": [
    "# fazendo a substituição de um valor:\n",
    "nomes_paises[4] = 'Colômbia'\n",
    "print('País: ', nomes_paises[4])\n",
    "print(nomes_paises)"
   ]
  },
  {
   "cell_type": "markdown",
   "id": "aba37d9c",
   "metadata": {},
   "source": [
    "Selecionando intervalos:"
   ]
  },
  {
   "cell_type": "code",
   "execution_count": 8,
   "id": "982d5575",
   "metadata": {},
   "outputs": [
    {
     "name": "stdout",
     "output_type": "stream",
     "text": [
      "['Argentina', 'China']\n"
     ]
    }
   ],
   "source": [
    "print(nomes_paises[1:3])"
   ]
  },
  {
   "cell_type": "code",
   "execution_count": 9,
   "id": "e01d80de",
   "metadata": {},
   "outputs": [
    {
     "name": "stdout",
     "output_type": "stream",
     "text": [
      "['Argentina', 'China', 'Canadá']\n"
     ]
    }
   ],
   "source": [
    "print(nomes_paises[1:-1])"
   ]
  },
  {
   "cell_type": "code",
   "execution_count": 10,
   "id": "b357d145",
   "metadata": {},
   "outputs": [
    {
     "name": "stdout",
     "output_type": "stream",
     "text": [
      "['China', 'Canadá', 'Colômbia']\n"
     ]
    }
   ],
   "source": [
    "print(nomes_paises[2:])"
   ]
  },
  {
   "cell_type": "code",
   "execution_count": 11,
   "id": "6fe46b57",
   "metadata": {},
   "outputs": [
    {
     "name": "stdout",
     "output_type": "stream",
     "text": [
      "['Brasil', 'Argentina', 'China']\n"
     ]
    }
   ],
   "source": [
    "print(nomes_paises[:3])"
   ]
  },
  {
   "cell_type": "code",
   "execution_count": 12,
   "id": "ddb09c4a",
   "metadata": {},
   "outputs": [
    {
     "name": "stdout",
     "output_type": "stream",
     "text": [
      "['Brasil', 'Argentina', 'China', 'Canadá', 'Colômbia']\n"
     ]
    }
   ],
   "source": [
    "print(nomes_paises[:])"
   ]
  },
  {
   "cell_type": "markdown",
   "id": "30dacf31",
   "metadata": {},
   "source": [
    "Criar um 'step' para pular valores (exemplo: de 2 em 2)"
   ]
  },
  {
   "cell_type": "code",
   "execution_count": 14,
   "id": "d520ca18",
   "metadata": {},
   "outputs": [
    {
     "name": "stdout",
     "output_type": "stream",
     "text": [
      "['Brasil', 'China', 'Colômbia']\n"
     ]
    }
   ],
   "source": [
    "print(nomes_paises[::2])"
   ]
  },
  {
   "cell_type": "code",
   "execution_count": 15,
   "id": "1224b1ec",
   "metadata": {},
   "outputs": [
    {
     "name": "stdout",
     "output_type": "stream",
     "text": [
      "['Colômbia', 'Canadá', 'China', 'Argentina', 'Brasil']\n"
     ]
    }
   ],
   "source": [
    "# dá pra inverter a lista dessa forma:\n",
    "print(nomes_paises[::-1])"
   ]
  },
  {
   "cell_type": "code",
   "execution_count": 16,
   "id": "fe6ddf50",
   "metadata": {},
   "outputs": [
    {
     "name": "stdout",
     "output_type": "stream",
     "text": [
      "True\n"
     ]
    }
   ],
   "source": [
    "print('Brasil' in nomes_paises)"
   ]
  },
  {
   "cell_type": "code",
   "execution_count": 17,
   "id": "f6b25ed2",
   "metadata": {},
   "outputs": [
    {
     "name": "stdout",
     "output_type": "stream",
     "text": [
      "False\n"
     ]
    }
   ],
   "source": [
    "print('Canadá' not in nomes_paises)"
   ]
  },
  {
   "cell_type": "markdown",
   "id": "20d96c8b",
   "metadata": {},
   "source": [
    "Para adicionar elementos numa lista vazia"
   ]
  },
  {
   "cell_type": "code",
   "execution_count": 18,
   "id": "d57d9b5f",
   "metadata": {},
   "outputs": [],
   "source": [
    "lista_capitais = []"
   ]
  },
  {
   "cell_type": "code",
   "execution_count": 19,
   "id": "1ddb89d7",
   "metadata": {},
   "outputs": [
    {
     "name": "stdout",
     "output_type": "stream",
     "text": [
      "['Brasilia', 'Buenos Aires', 'Pequim', 'Bogotá']\n"
     ]
    }
   ],
   "source": [
    "lista_capitais.append('Brasilia')\n",
    "lista_capitais.append('Buenos Aires')\n",
    "lista_capitais.append('Pequim')\n",
    "lista_capitais.append('Bogotá')\n",
    "\n",
    "print(lista_capitais)"
   ]
  },
  {
   "cell_type": "code",
   "execution_count": 20,
   "id": "a239dde7",
   "metadata": {},
   "outputs": [
    {
     "name": "stdout",
     "output_type": "stream",
     "text": [
      "['Brasilia', 'Buenos Aires', 'Paris', 'Pequim', 'Bogotá']\n"
     ]
    }
   ],
   "source": [
    "# Para inserir um item numa posição específica usar INSERT:\n",
    "\n",
    "lista_capitais.insert(2, 'Paris')\n",
    "print(lista_capitais)"
   ]
  },
  {
   "cell_type": "markdown",
   "id": "89390c3c",
   "metadata": {},
   "source": [
    "Para retirar/deletar elementos de uma lista"
   ]
  },
  {
   "cell_type": "code",
   "execution_count": 21,
   "id": "aae34044",
   "metadata": {},
   "outputs": [
    {
     "name": "stdout",
     "output_type": "stream",
     "text": [
      "['Brasilia', 'Paris', 'Pequim', 'Bogotá']\n"
     ]
    }
   ],
   "source": [
    "lista_capitais.remove('Buenos Aires')\n",
    "print(lista_capitais)"
   ]
  },
  {
   "cell_type": "code",
   "execution_count": 22,
   "id": "c21e5b31",
   "metadata": {},
   "outputs": [
    {
     "name": "stdout",
     "output_type": "stream",
     "text": [
      "['Brasilia', 'Paris', 'Bogotá'] Pequim\n"
     ]
    }
   ],
   "source": [
    "removido = lista_capitais.pop(2)\n",
    "\n",
    "print(lista_capitais, removido)"
   ]
  },
  {
   "cell_type": "markdown",
   "id": "d08932a7",
   "metadata": {},
   "source": [
    "### A principal diferença entre uma lista e uma tupla é a flexibilidade do que se pode fazer com cade uma dessas estruturas de dados. (A tupla uma vez definida, não pode ser alterada)."
   ]
  },
  {
   "cell_type": "markdown",
   "id": "03e12768",
   "metadata": {},
   "source": [
    "Para declarar uma tupla se usa parênteses ao invés de chaves:"
   ]
  },
  {
   "cell_type": "code",
   "execution_count": 23,
   "id": "090279ed",
   "metadata": {},
   "outputs": [
    {
     "name": "stdout",
     "output_type": "stream",
     "text": [
      "('Brasil', 'Argentina', 'China', 'Canadá', 'Japão')\n"
     ]
    }
   ],
   "source": [
    "nomes_paises = ('Brasil', 'Argentina', 'China', 'Canadá', 'Japão')\n",
    "print(nomes_paises)"
   ]
  },
  {
   "cell_type": "code",
   "execution_count": 24,
   "id": "ef6cef8f",
   "metadata": {},
   "outputs": [
    {
     "name": "stdout",
     "output_type": "stream",
     "text": [
      "('Brasil', 'Argentina', 'China', 'Canadá', 'Japão') <class 'tuple'>\n"
     ]
    }
   ],
   "source": [
    "# também pode-se utilizar somente os nomes, sem parênteses\n",
    "\n",
    "nomes_paises = 'Brasil', 'Argentina', 'China', 'Canadá', 'Japão'\n",
    "print(nomes_paises, type(nomes_paises))"
   ]
  },
  {
   "cell_type": "code",
   "execution_count": 25,
   "id": "7534077b",
   "metadata": {},
   "outputs": [
    {
     "name": "stdout",
     "output_type": "stream",
     "text": [
      "('São Paulo',) <class 'tuple'>\n"
     ]
    }
   ],
   "source": [
    "nome_estado = 'São Paulo',\n",
    "print(nome_estado, type(nome_estado))"
   ]
  },
  {
   "cell_type": "code",
   "execution_count": 27,
   "id": "24eed6c4",
   "metadata": {},
   "outputs": [
    {
     "data": {
      "text/plain": [
       "5"
      ]
     },
     "execution_count": 27,
     "metadata": {},
     "output_type": "execute_result"
    }
   ],
   "source": [
    "# A fução LEN serve tanto pra listas quanto tuplas\n",
    "\n",
    "len(nomes_paises)"
   ]
  },
  {
   "cell_type": "code",
   "execution_count": 28,
   "id": "cfbfbb87",
   "metadata": {},
   "outputs": [
    {
     "data": {
      "text/plain": [
       "'Brasil'"
      ]
     },
     "execution_count": 28,
     "metadata": {},
     "output_type": "execute_result"
    }
   ],
   "source": [
    "nomes_paises[0]"
   ]
  },
  {
   "cell_type": "markdown",
   "id": "f52410c7",
   "metadata": {},
   "source": [
    "A tupla tem uma operação chamada UNPACKING (que não é possível fazer numa lista), colocando cada um dos valores da tupla numa variável diferente"
   ]
  },
  {
   "cell_type": "code",
   "execution_count": 29,
   "id": "a377f128",
   "metadata": {},
   "outputs": [],
   "source": [
    "b, a, c, ca, j = nomes_paises"
   ]
  },
  {
   "cell_type": "code",
   "execution_count": 32,
   "id": "44e3e052",
   "metadata": {},
   "outputs": [
    {
     "name": "stdout",
     "output_type": "stream",
     "text": [
      "Brasil China Japão\n"
     ]
    }
   ],
   "source": [
    "print(b, c, j)"
   ]
  },
  {
   "cell_type": "code",
   "execution_count": 31,
   "id": "a5c4be8c",
   "metadata": {},
   "outputs": [
    {
     "name": "stdout",
     "output_type": "stream",
     "text": [
      "Brasil Argentina China Canadá Japão\n"
     ]
    }
   ],
   "source": [
    "print(*nomes_paises)"
   ]
  },
  {
   "cell_type": "markdown",
   "id": "98189767",
   "metadata": {},
   "source": [
    "### Aula 09 - Strings I"
   ]
  },
  {
   "cell_type": "code",
   "execution_count": 2,
   "id": "537d8639",
   "metadata": {},
   "outputs": [
    {
     "name": "stdout",
     "output_type": "stream",
     "text": [
      "Google\n"
     ]
    }
   ],
   "source": [
    "empresa = \"Google\"\n",
    "print(empresa)"
   ]
  },
  {
   "cell_type": "code",
   "execution_count": 3,
   "id": "ec65367f",
   "metadata": {},
   "outputs": [
    {
     "name": "stdout",
     "output_type": "stream",
     "text": [
      "Google\n"
     ]
    }
   ],
   "source": [
    "empresa = 'Google'\n",
    "print(empresa)"
   ]
  },
  {
   "cell_type": "code",
   "execution_count": 4,
   "id": "7a575158",
   "metadata": {},
   "outputs": [
    {
     "ename": "SyntaxError",
     "evalue": "invalid syntax (3506547437.py, line 1)",
     "output_type": "error",
     "traceback": [
      "\u001b[1;36m  Input \u001b[1;32mIn [4]\u001b[1;36m\u001b[0m\n\u001b[1;33m    empresa = 'Let's Code'\u001b[0m\n\u001b[1;37m                   ^\u001b[0m\n\u001b[1;31mSyntaxError\u001b[0m\u001b[1;31m:\u001b[0m invalid syntax\n"
     ]
    }
   ],
   "source": [
    "empresa = 'Let's Code'\n",
    "print(empresa)"
   ]
  },
  {
   "cell_type": "code",
   "execution_count": 5,
   "id": "68fa9829",
   "metadata": {},
   "outputs": [
    {
     "name": "stdout",
     "output_type": "stream",
     "text": [
      "Let's Code\n"
     ]
    }
   ],
   "source": [
    "empresa = \"Let's Code\"\n",
    "print(empresa)"
   ]
  },
  {
   "cell_type": "code",
   "execution_count": 7,
   "id": "157ff15a",
   "metadata": {},
   "outputs": [
    {
     "name": "stdout",
     "output_type": "stream",
     "text": [
      "O professor Pietro da Let's Code disse \"Hoje a pizza é por minha conta!\"\n"
     ]
    }
   ],
   "source": [
    "frase = \"O professor Pietro da Let's Code disse \\\"Hoje a pizza é por minha conta!\\\"\"\n",
    "print(frase)\n",
    "\n",
    "# Nesse caso foi necessário usar \\ como caracter de escape para poder imprimir corretamente os dados da string"
   ]
  },
  {
   "cell_type": "code",
   "execution_count": 8,
   "id": "d8741cf6",
   "metadata": {},
   "outputs": [
    {
     "name": "stdout",
     "output_type": "stream",
     "text": [
      "G\n"
     ]
    }
   ],
   "source": [
    "empresa = 'Google'\n",
    "print(empresa[0]) #imprime o caracter que está na posição 0 da string"
   ]
  },
  {
   "cell_type": "code",
   "execution_count": 9,
   "id": "f289f1ba",
   "metadata": {},
   "outputs": [
    {
     "name": "stdout",
     "output_type": "stream",
     "text": [
      "Goo\n"
     ]
    }
   ],
   "source": [
    "print(empresa[:3]) # retornará os caracteres nas posições 0, 1 e 2"
   ]
  },
  {
   "cell_type": "markdown",
   "id": "0fe501d4",
   "metadata": {},
   "source": [
    "Método SPLIT irá quebrar a string em diferentes valores, colocando cada um numa lista. Necessário especificar os caracteres que separam cada valor ou então o medódo split irá considerar o padrão (espaço simples)"
   ]
  },
  {
   "cell_type": "code",
   "execution_count": 11,
   "id": "28a5cf68",
   "metadata": {},
   "outputs": [
    {
     "name": "stdout",
     "output_type": "stream",
     "text": [
      "['São Paulo', 'Belo Horizonte', 'Rio de Janeiro', 'Brasilia']\n"
     ]
    }
   ],
   "source": [
    "nomes_cidades = \"São Paulo, Belo Horizonte, Rio de Janeiro, Brasilia\"\n",
    "nomes_cidades = nomes_cidades.split(', ')\n",
    "print(nomes_cidades)"
   ]
  },
  {
   "cell_type": "code",
   "execution_count": 12,
   "id": "25f7303f",
   "metadata": {},
   "outputs": [
    {
     "name": "stdout",
     "output_type": "stream",
     "text": [
      "MENU PRINCIPAL\n"
     ]
    }
   ],
   "source": [
    "cabecalho = \"      MENU PRINCIPAL      \"\n",
    "print(cabecalho.strip())"
   ]
  },
  {
   "cell_type": "markdown",
   "id": "7a83147b",
   "metadata": {},
   "source": [
    "Mudando formatação do texto:"
   ]
  },
  {
   "cell_type": "code",
   "execution_count": 13,
   "id": "038b0991",
   "metadata": {},
   "outputs": [
    {
     "name": "stdout",
     "output_type": "stream",
     "text": [
      "Rio De Janeiro\n",
      "Rio de janeiro\n",
      "rio de janeiro\n",
      "RIO DE JANEIRO\n"
     ]
    }
   ],
   "source": [
    "nome_cidade = 'rIo DE jaNeiro'\n",
    "\n",
    "print(nome_cidade.title()) #primeiras letras de cada palavra maiúscula\n",
    "print(nome_cidade.capitalize()) #somente a primeira letra maiúscula\n",
    "print(nome_cidade.lower()) #tudo minúsculo\n",
    "print(nome_cidade.upper()) #tudo maiúsculo"
   ]
  },
  {
   "cell_type": "markdown",
   "id": "ad32fca4",
   "metadata": {},
   "source": [
    "Exemplo de utilização para padronizar o input de um usuário e não ter dados errados por conta de capitalização:"
   ]
  },
  {
   "cell_type": "code",
   "execution_count": 15,
   "id": "f3722ac2",
   "metadata": {},
   "outputs": [
    {
     "name": "stdout",
     "output_type": "stream",
     "text": [
      "Qual cidade do Brasil é conhecida como cidade maravilhosa? São Paulo\n",
      "Tenta de novo, vai\n",
      "Qual cidade do Brasil é conhecida como cidade maravilhosa? Salvador\n",
      "Tenta de novo, vai\n",
      "Qual cidade do Brasil é conhecida como cidade maravilhosa? Belo Horizonte\n",
      "Tenta de novo, vai\n",
      "Qual cidade do Brasil é conhecida como cidade maravilhosa? Rio de Janeiro\n",
      "Booa, campeão!\n"
     ]
    }
   ],
   "source": [
    "nome_cidade = input('Qual cidade do Brasil é conhecida como cidade maravilhosa? ')\n",
    "nome_cidade = nome_cidade.strip()\n",
    "\n",
    "while nome_cidade.lower() != 'rio de janeiro':\n",
    "    print('Tenta de novo, vai')\n",
    "    nome_cidade = input('Qual cidade do Brasil é conhecida como cidade maravilhosa? ')\n",
    "    \n",
    "print('Booa, campeão!')"
   ]
  },
  {
   "cell_type": "code",
   "execution_count": 16,
   "id": "d3a64fc3",
   "metadata": {},
   "outputs": [
    {
     "name": "stdout",
     "output_type": "stream",
     "text": [
      "True\n"
     ]
    }
   ],
   "source": [
    "mensagem = 'Você viu o que o Pietro disse na sala ontem?'\n",
    "fui_citado = 'Pietro' in mensagem\n",
    "print(fui_citado)"
   ]
  },
  {
   "cell_type": "markdown",
   "id": "f3bfc673",
   "metadata": {},
   "source": [
    "## Aula 10 - Strings II"
   ]
  },
  {
   "cell_type": "code",
   "execution_count": 17,
   "id": "f1a0c595",
   "metadata": {},
   "outputs": [
    {
     "name": "stdout",
     "output_type": "stream",
     "text": [
      "Olá, Felipe\n"
     ]
    }
   ],
   "source": [
    "cumprimento = 'Olá, '\n",
    "nome = 'Felipe'\n",
    "print(cumprimento + nome)"
   ]
  },
  {
   "cell_type": "code",
   "execution_count": 18,
   "id": "e82f2ff7",
   "metadata": {},
   "outputs": [
    {
     "name": "stdout",
     "output_type": "stream",
     "text": [
      "FelipeFelipeFelipeFelipeFelipe\n"
     ]
    }
   ],
   "source": [
    "print(nome * 5)"
   ]
  },
  {
   "cell_type": "code",
   "execution_count": 25,
   "id": "87c94f28",
   "metadata": {},
   "outputs": [
    {
     "name": "stdout",
     "output_type": "stream",
     "text": [
      "Felipe tem 35 anos e 2 filhos.\n"
     ]
    }
   ],
   "source": [
    "nome = 'Felipe'\n",
    "idade = 35\n",
    "n_filhos = 2\n",
    "# precisa fazer casting para alterar de número para string\n",
    "\n",
    "print(nome+' tem '+str(idade)+' anos e '+str(n_filhos)+' filhos.')"
   ]
  },
  {
   "cell_type": "code",
   "execution_count": 21,
   "id": "a24da2b5",
   "metadata": {
    "scrolled": true
   },
   "outputs": [
    {
     "name": "stdout",
     "output_type": "stream",
     "text": [
      "Felipe tem 35 anos e 2 filhos.\n"
     ]
    }
   ],
   "source": [
    "# outra opção é usar o método FORMAT\n",
    "\n",
    "print('{} tem {} anos e {} filhos.'.format(nome, idade, n_filhos))"
   ]
  },
  {
   "cell_type": "code",
   "execution_count": 26,
   "id": "792cceb9",
   "metadata": {},
   "outputs": [
    {
     "name": "stdout",
     "output_type": "stream",
     "text": [
      "Felipe tem 35 anos e 2 filhos.\n"
     ]
    }
   ],
   "source": [
    "# um atalho apra utilizar a função FORMAT:\n",
    "# incluir \" f' \" antes do texto que será impresso e dentro das chaves colocar o nome das strings\n",
    "\n",
    "print(f'{nome} tem {idade} anos e {n_filhos} filhos.')"
   ]
  },
  {
   "cell_type": "code",
   "execution_count": 24,
   "id": "98c7863f",
   "metadata": {},
   "outputs": [
    {
     "name": "stdout",
     "output_type": "stream",
     "text": [
      "O preço da gasolina hoje subiu e está em R$ 3.48\n"
     ]
    }
   ],
   "source": [
    "preco_gasolina = 3.476 #com a função FORMAT é possível mostrar apenas os 2 primeiros dados para o usuário\n",
    "\n",
    "print('O preço da gasolina hoje subiu e está em R$ {:.2f}'.format(preco_gasolina)) #'.2' se refere a quantidade de casas decimais / 'f' é uma flag para  identificar que é um número FLOAT"
   ]
  },
  {
   "cell_type": "markdown",
   "id": "b0dc63d2",
   "metadata": {},
   "source": [
    "## Aula 11 - Dicionários"
   ]
  },
  {
   "cell_type": "markdown",
   "id": "6130f3c1",
   "metadata": {},
   "source": [
    "Em um dicionário (ex Aurélio) temos verbetes e seus significados.\n",
    "\n",
    "Usando essa analogia em Python temos que:\n",
    "- Verbetes são as chaves\n",
    "- Significados serão os valores dessas chaves\n",
    "\n",
    "Recapitulando:\n",
    "- Na declaração de listas usa-se colchetes []\n",
    "- Na declaração de tuplas usa-se parênteses ()\n",
    "- No dicionário sua-se chaves {}"
   ]
  },
  {
   "cell_type": "code",
   "execution_count": 1,
   "id": "5ff75e8e",
   "metadata": {},
   "outputs": [],
   "source": [
    "dados_cidade = {\n",
    "    'nome': 'São Paulo',\n",
    "    'estado': 'São Paulo',\n",
    "    'area_km2': 1521,\n",
    "    'populacao_milhoes': 12.18,\n",
    "}"
   ]
  },
  {
   "cell_type": "code",
   "execution_count": 2,
   "id": "559c04d6",
   "metadata": {},
   "outputs": [
    {
     "name": "stdout",
     "output_type": "stream",
     "text": [
      "<class 'dict'>\n"
     ]
    }
   ],
   "source": [
    "print(type(dados_cidade))"
   ]
  },
  {
   "cell_type": "code",
   "execution_count": 3,
   "id": "55d4f53c",
   "metadata": {},
   "outputs": [
    {
     "name": "stdout",
     "output_type": "stream",
     "text": [
      "{'nome': 'São Paulo', 'estado': 'São Paulo', 'area_km2': 1521, 'populacao_milhoes': 12.18}\n"
     ]
    }
   ],
   "source": [
    "print(dados_cidade)"
   ]
  },
  {
   "cell_type": "markdown",
   "id": "e3169851",
   "metadata": {},
   "source": [
    "Para adicionar um novo elemento:"
   ]
  },
  {
   "cell_type": "code",
   "execution_count": 4,
   "id": "b55427f5",
   "metadata": {},
   "outputs": [],
   "source": [
    "dados_cidade['pais'] = 'Brasil'"
   ]
  },
  {
   "cell_type": "code",
   "execution_count": 5,
   "id": "ae26e896",
   "metadata": {},
   "outputs": [
    {
     "name": "stdout",
     "output_type": "stream",
     "text": [
      "{'nome': 'São Paulo', 'estado': 'São Paulo', 'area_km2': 1521, 'populacao_milhoes': 12.18, 'pais': 'Brasil'}\n"
     ]
    }
   ],
   "source": [
    "print(dados_cidade)"
   ]
  },
  {
   "cell_type": "code",
   "execution_count": 6,
   "id": "7d95e4e9",
   "metadata": {},
   "outputs": [
    {
     "name": "stdout",
     "output_type": "stream",
     "text": [
      "São Paulo\n"
     ]
    }
   ],
   "source": [
    "print(dados_cidade['nome'])"
   ]
  },
  {
   "cell_type": "markdown",
   "id": "6699550c",
   "metadata": {},
   "source": [
    "Para alterar os dados de uma chave:"
   ]
  },
  {
   "cell_type": "code",
   "execution_count": 9,
   "id": "540d8904",
   "metadata": {},
   "outputs": [],
   "source": [
    "# arualizando informações conforme dados da Wikipedia (2020)\n",
    "dados_cidade['populacao_milhoes'] = 12.33"
   ]
  },
  {
   "cell_type": "code",
   "execution_count": 10,
   "id": "edce4b38",
   "metadata": {},
   "outputs": [
    {
     "name": "stdout",
     "output_type": "stream",
     "text": [
      "{'nome': 'São Paulo', 'estado': 'São Paulo', 'area_km2': 1521, 'populacao_milhoes': 12.33, 'pais': 'Brasil'}\n"
     ]
    }
   ],
   "source": [
    "print(dados_cidade)"
   ]
  },
  {
   "cell_type": "markdown",
   "id": "3a714290",
   "metadata": {},
   "source": [
    "É possível fazer uma cópia do dicionário para edição de alguma informação num dicionário totalmente independente.\n",
    "\n",
    "Se apenas fizer uma relação ao invés de fazer COPY, os dados alterados irão influenciar o dicionário original. Exemplo:"
   ]
  },
  {
   "cell_type": "code",
   "execution_count": 11,
   "id": "d6c87795",
   "metadata": {},
   "outputs": [],
   "source": [
    "dados_cidade_2 = dados_cidade"
   ]
  },
  {
   "cell_type": "code",
   "execution_count": 13,
   "id": "9d40ebed",
   "metadata": {},
   "outputs": [],
   "source": [
    "dados_cidade_2['nome'] = 'Santos'"
   ]
  },
  {
   "cell_type": "code",
   "execution_count": 14,
   "id": "701e3846",
   "metadata": {},
   "outputs": [
    {
     "name": "stdout",
     "output_type": "stream",
     "text": [
      "{'nome': 'Santos', 'estado': 'São Paulo', 'area_km2': 1521, 'populacao_milhoes': 12.33, 'pais': 'Brasil'}\n",
      "{'nome': 'Santos', 'estado': 'São Paulo', 'area_km2': 1521, 'populacao_milhoes': 12.33, 'pais': 'Brasil'}\n"
     ]
    }
   ],
   "source": [
    "print(dados_cidade_2) # alterou de São Paulo para Santos\n",
    "print(dados_cidade) # ficou com informações incorretas, conforme alteração de dados_cidade_2 "
   ]
  },
  {
   "cell_type": "markdown",
   "id": "c5bff81f",
   "metadata": {},
   "source": [
    "Fazendo da forma correta (via método COPY) e alterando os dados:"
   ]
  },
  {
   "cell_type": "code",
   "execution_count": 15,
   "id": "2a8b9dc7",
   "metadata": {},
   "outputs": [],
   "source": [
    "dados_cidade_3 = dados_cidade.copy()"
   ]
  },
  {
   "cell_type": "code",
   "execution_count": 16,
   "id": "7093152c",
   "metadata": {},
   "outputs": [],
   "source": [
    "dados_cidade_3['nome'] = 'Rio de Janeiro'\n",
    "dados_cidade_3['estado'] = 'Rio de Janeiro'\n",
    "dados_cidade_3['area_km2'] = 1200\n",
    "dados_cidade_3['população_milhoes'] = 6.748 # em 2020"
   ]
  },
  {
   "cell_type": "code",
   "execution_count": 18,
   "id": "53146a97",
   "metadata": {},
   "outputs": [
    {
     "name": "stdout",
     "output_type": "stream",
     "text": [
      "{'nome': 'Rio de Janeiro', 'estado': 'Rio de Janeiro', 'area_km2': 1200, 'populacao_milhoes': 12.33, 'pais': 'Brasil', 'população_milhoes': 6.748}\n",
      "{'nome': 'Santos', 'estado': 'São Paulo', 'area_km2': 1521, 'populacao_milhoes': 12.33, 'pais': 'Brasil'}\n",
      "{'nome': 'Santos', 'estado': 'São Paulo', 'area_km2': 1521, 'populacao_milhoes': 12.33, 'pais': 'Brasil'}\n"
     ]
    }
   ],
   "source": [
    "print(dados_cidade_3)\n",
    "print(dados_cidade_2)\n",
    "print(dados_cidade)"
   ]
  },
  {
   "cell_type": "markdown",
   "id": "fb7db151",
   "metadata": {},
   "source": [
    "É possível atualizar um dicionário utilizando método UPDATE"
   ]
  },
  {
   "cell_type": "code",
   "execution_count": 19,
   "id": "250099e0",
   "metadata": {},
   "outputs": [
    {
     "name": "stdout",
     "output_type": "stream",
     "text": [
      "{'nome': 'São Paulo', 'estado': 'São Paulo', 'area_km2': 1521, 'populacao_milhoes': 12.33, 'pais': 'Brasil', 'fundacao': '25/01/1554'}\n"
     ]
    }
   ],
   "source": [
    "# corrigindo dados de São Paulo em 'dados_cidade':\n",
    "\n",
    "novos_dados = {\n",
    "    'nome': 'São Paulo',\n",
    "    'fundacao': '25/01/1554',\n",
    "}\n",
    "\n",
    "dados_cidade.update(novos_dados)\n",
    "print(dados_cidade)"
   ]
  },
  {
   "cell_type": "markdown",
   "id": "347adf44",
   "metadata": {},
   "source": [
    "Se tentar buscar um dado que não existir, dará erro.\n",
    "Mas se usar o método GET, ele mostrará um resultado 'none'"
   ]
  },
  {
   "cell_type": "code",
   "execution_count": 20,
   "id": "b9bb75bc",
   "metadata": {},
   "outputs": [
    {
     "ename": "KeyError",
     "evalue": "'prefeito'",
     "output_type": "error",
     "traceback": [
      "\u001b[1;31m---------------------------------------------------------------------------\u001b[0m",
      "\u001b[1;31mKeyError\u001b[0m                                  Traceback (most recent call last)",
      "Input \u001b[1;32mIn [20]\u001b[0m, in \u001b[0;36m<cell line: 1>\u001b[1;34m()\u001b[0m\n\u001b[1;32m----> 1\u001b[0m \u001b[43mdados_cidade\u001b[49m\u001b[43m[\u001b[49m\u001b[38;5;124;43m'\u001b[39;49m\u001b[38;5;124;43mprefeito\u001b[39;49m\u001b[38;5;124;43m'\u001b[39;49m\u001b[43m]\u001b[49m\n",
      "\u001b[1;31mKeyError\u001b[0m: 'prefeito'"
     ]
    }
   ],
   "source": [
    "dados_cidade['prefeito']"
   ]
  },
  {
   "cell_type": "code",
   "execution_count": 21,
   "id": "77637ba5",
   "metadata": {},
   "outputs": [
    {
     "name": "stdout",
     "output_type": "stream",
     "text": [
      "None\n"
     ]
    }
   ],
   "source": [
    "print(dados_cidade.get('prefeito'))"
   ]
  },
  {
   "cell_type": "markdown",
   "id": "6c25b4aa",
   "metadata": {},
   "source": [
    "3 métodos diferentes de transformar um dicionário em listas"
   ]
  },
  {
   "cell_type": "code",
   "execution_count": 22,
   "id": "1890da9f",
   "metadata": {},
   "outputs": [
    {
     "name": "stdout",
     "output_type": "stream",
     "text": [
      "dict_keys(['nome', 'estado', 'area_km2', 'populacao_milhoes', 'pais', 'fundacao'])\n",
      "----\n",
      "dict_values(['São Paulo', 'São Paulo', 1521, 12.33, 'Brasil', '25/01/1554'])\n",
      "----\n",
      "dict_items([('nome', 'São Paulo'), ('estado', 'São Paulo'), ('area_km2', 1521), ('populacao_milhoes', 12.33), ('pais', 'Brasil'), ('fundacao', '25/01/1554')])\n"
     ]
    }
   ],
   "source": [
    "print(dados_cidade.keys()) # retorna uma lista de chaves de um dicionário\n",
    "print('----')\n",
    "print(dados_cidade.values()) # retorna uma lista de valores de um dicionário\n",
    "print('----')\n",
    "print(dados_cidade.items()) # retorna uma lista de tuplas (chave, valor) de um dicionário"
   ]
  },
  {
   "cell_type": "markdown",
   "id": "245d9ac0",
   "metadata": {},
   "source": [
    "## Aula 12 - Estruturas de Repetição - For (for loop)"
   ]
  },
  {
   "cell_type": "code",
   "execution_count": 23,
   "id": "a9823696",
   "metadata": {},
   "outputs": [
    {
     "name": "stdout",
     "output_type": "stream",
     "text": [
      "São Paulo\n",
      "Londres\n",
      "Tóquio\n",
      "Paris\n"
     ]
    }
   ],
   "source": [
    "nomes_cidades = ['São Paulo', 'Londres', 'Tóquio', 'Paris']\n",
    "\n",
    "for nome in nomes_cidades:\n",
    "    print(nome)"
   ]
  },
  {
   "cell_type": "markdown",
   "id": "a9d2b15c",
   "metadata": {},
   "source": [
    "O mesmo exemplo utilizando o método WHILE:"
   ]
  },
  {
   "cell_type": "code",
   "execution_count": 25,
   "id": "167a924d",
   "metadata": {},
   "outputs": [
    {
     "name": "stdout",
     "output_type": "stream",
     "text": [
      "São Paulo\n",
      "Londres\n",
      "Tóquio\n",
      "Paris\n"
     ]
    }
   ],
   "source": [
    "contador = 0\n",
    "nomes_cidades = ['São Paulo', 'Londres', 'Tóquio', 'Paris']\n",
    "\n",
    "while contador < len(nomes_cidades):\n",
    "    print(nomes_cidades[contador])\n",
    "    contador = contador + 1"
   ]
  },
  {
   "cell_type": "markdown",
   "id": "f1ffbd74",
   "metadata": {},
   "source": [
    "FOR também se aplica em tuplas e em dicionários:"
   ]
  },
  {
   "cell_type": "code",
   "execution_count": 26,
   "id": "643738e9",
   "metadata": {},
   "outputs": [
    {
     "name": "stdout",
     "output_type": "stream",
     "text": [
      "São Paulo\n",
      "Londres\n",
      "Tóquio\n",
      "Paris\n"
     ]
    }
   ],
   "source": [
    "nomes_cidades = ('São Paulo', 'Londres', 'Tóquio', 'Paris')\n",
    "\n",
    "for nome in nomes_cidades:\n",
    "    print(nome)"
   ]
  },
  {
   "cell_type": "code",
   "execution_count": 27,
   "id": "f12ab587",
   "metadata": {},
   "outputs": [
    {
     "name": "stdout",
     "output_type": "stream",
     "text": [
      "nome: São Paulo\n",
      "estado: São Paulo\n",
      "populacao_milhoes: 12.18\n"
     ]
    }
   ],
   "source": [
    "# para dicionário tem que mudar algumas coisas\n",
    "\n",
    "cidade = {\n",
    "    'nome': 'São Paulo',\n",
    "    'estado': 'São Paulo',\n",
    "    'populacao_milhoes': 12.18,\n",
    "}\n",
    "\n",
    "for chave in cidade:\n",
    "    print(f'{chave}: {cidade[chave]}')"
   ]
  },
  {
   "cell_type": "markdown",
   "id": "677a0a75",
   "metadata": {},
   "source": [
    "Não é possível alterar dados nessa lista apenas atribuindo um novo valor:"
   ]
  },
  {
   "cell_type": "code",
   "execution_count": 30,
   "id": "0316a5aa",
   "metadata": {},
   "outputs": [
    {
     "name": "stdout",
     "output_type": "stream",
     "text": [
      "['São Paulo', 'Londres', 'Tóquio', 'Paris']\n",
      "Rio de Janeiro\n"
     ]
    }
   ],
   "source": [
    "nomes_cidades = ['São Paulo', 'Londres', 'Tóquio', 'Paris']\n",
    "\n",
    "for nome in nomes_cidades:\n",
    "    nome = 'Rio de Janeiro'\n",
    "print(nomes_cidades)\n",
    "print(nome)"
   ]
  },
  {
   "cell_type": "markdown",
   "id": "c3acf93c",
   "metadata": {},
   "source": [
    "Para alterar os dados precisaremos referenciar diretamente cada elemento (pela sua posição) com auxílio da função RANGE:"
   ]
  },
  {
   "cell_type": "code",
   "execution_count": 31,
   "id": "f6ad9b83",
   "metadata": {},
   "outputs": [
    {
     "name": "stdout",
     "output_type": "stream",
     "text": [
      "0\n",
      "1\n",
      "2\n",
      "3\n"
     ]
    }
   ],
   "source": [
    "for posicao in range(len(nomes_cidades)):\n",
    "    print(posicao)"
   ]
  },
  {
   "cell_type": "code",
   "execution_count": 32,
   "id": "4901f85c",
   "metadata": {},
   "outputs": [
    {
     "name": "stdout",
     "output_type": "stream",
     "text": [
      "['Rio de Janeiro', 'Rio de Janeiro', 'Rio de Janeiro', 'Rio de Janeiro']\n"
     ]
    }
   ],
   "source": [
    "for posicao in range(len(nomes_cidades)):\n",
    "    nomes_cidades[posicao] = 'Rio de Janeiro'\n",
    "print(nomes_cidades)"
   ]
  },
  {
   "cell_type": "code",
   "execution_count": 34,
   "id": "e1757156",
   "metadata": {},
   "outputs": [
    {
     "name": "stdout",
     "output_type": "stream",
     "text": [
      "['Bauru', 'Belo Horizonte', 'Brasília', 'Rio de Janeiro']\n"
     ]
    }
   ],
   "source": [
    "for posicao in range(len(nomes_cidades)):\n",
    "    nomes_cidades[0] = 'Bauru'\n",
    "    nomes_cidades[1] = 'Belo Horizonte'\n",
    "    nomes_cidades[2] = 'Brasília'\n",
    "print(nomes_cidades)"
   ]
  },
  {
   "cell_type": "markdown",
   "id": "91f121e9",
   "metadata": {},
   "source": [
    "Outra utilização do RANGE:"
   ]
  },
  {
   "cell_type": "code",
   "execution_count": 35,
   "id": "c86b42a2",
   "metadata": {},
   "outputs": [
    {
     "name": "stdout",
     "output_type": "stream",
     "text": [
      "[0, 1, 2, 3, 4, 5, 6, 7, 8, 9]\n",
      "[2, 3, 4, 5, 6, 7, 8, 9]\n",
      "[2, 4, 6, 8]\n"
     ]
    }
   ],
   "source": [
    "print(list(range(10))) # valor final\n",
    "print(list(range(2, 10))) # valor inicial e final\n",
    "print(list(range(2, 10, 2))) # valor inicial, final e incremento (a cada 2)"
   ]
  },
  {
   "cell_type": "markdown",
   "id": "cfaa0bea",
   "metadata": {},
   "source": [
    "## Aula 13 - Funções I"
   ]
  },
  {
   "cell_type": "code",
   "execution_count": 36,
   "id": "f8d3958f",
   "metadata": {},
   "outputs": [],
   "source": [
    "# o primeiro passo é definir a função\n",
    "def hello():\n",
    "    print('Olá, mundo!')"
   ]
  },
  {
   "cell_type": "code",
   "execution_count": 37,
   "id": "00d19b8c",
   "metadata": {},
   "outputs": [
    {
     "name": "stdout",
     "output_type": "stream",
     "text": [
      "Olá, mundo!\n"
     ]
    }
   ],
   "source": [
    "# para chamar a função:\n",
    "hello()"
   ]
  },
  {
   "cell_type": "markdown",
   "id": "a04bb591",
   "metadata": {},
   "source": [
    "Exemplo prático:"
   ]
  },
  {
   "cell_type": "code",
   "execution_count": 38,
   "id": "58646e17",
   "metadata": {},
   "outputs": [],
   "source": [
    "# definindo os parâmetros da função:\n",
    "def calcula_media(valor1, valor2, valor3):\n",
    "    soma = valor1 + valor2 + valor3\n",
    "    media = soma/3\n",
    "    return media"
   ]
  },
  {
   "cell_type": "code",
   "execution_count": 39,
   "id": "9f6430d3",
   "metadata": {},
   "outputs": [
    {
     "name": "stdout",
     "output_type": "stream",
     "text": [
      "9.0\n"
     ]
    }
   ],
   "source": [
    "resultado = calcula_media(9, 10, 8)\n",
    "print(resultado)"
   ]
  },
  {
   "cell_type": "code",
   "execution_count": 40,
   "id": "2a65c462",
   "metadata": {},
   "outputs": [
    {
     "name": "stdout",
     "output_type": "stream",
     "text": [
      "9.0\n"
     ]
    }
   ],
   "source": [
    "resultado2 = calcula_media(valor1=9, valor2=10, valor3=8)\n",
    "print(resultado2)"
   ]
  },
  {
   "cell_type": "code",
   "execution_count": 41,
   "id": "dc0652be",
   "metadata": {},
   "outputs": [
    {
     "name": "stdout",
     "output_type": "stream",
     "text": [
      "Olá\n",
      ", Pietro\n"
     ]
    }
   ],
   "source": [
    "print('Olá')\n",
    "print(', Pietro')"
   ]
  },
  {
   "cell_type": "code",
   "execution_count": 42,
   "id": "7006918e",
   "metadata": {},
   "outputs": [
    {
     "name": "stdout",
     "output_type": "stream",
     "text": [
      "Olá , Pietro\n"
     ]
    }
   ],
   "source": [
    "#para evitar a quebra de linhas, uma opção é usar END incluindo um espaço entre os prints\n",
    "print('Olá', end=' ')\n",
    "print(', Pietro')"
   ]
  },
  {
   "cell_type": "code",
   "execution_count": 43,
   "id": "df265807",
   "metadata": {},
   "outputs": [],
   "source": [
    "def calcula_media(valor1=0, valor2=0, valor3=0):\n",
    "    soma = valor1 + valor2 + valor3\n",
    "    media = soma/3\n",
    "    return media"
   ]
  },
  {
   "cell_type": "code",
   "execution_count": 44,
   "id": "e352cbd7",
   "metadata": {},
   "outputs": [
    {
     "name": "stdout",
     "output_type": "stream",
     "text": [
      "0.0\n"
     ]
    }
   ],
   "source": [
    "resultado = calcula_media()\n",
    "print(resultado)"
   ]
  },
  {
   "cell_type": "markdown",
   "id": "1f57420b",
   "metadata": {},
   "source": [
    "## Aula 14 - Funções II (Args e Cords)"
   ]
  },
  {
   "cell_type": "markdown",
   "id": "1e12148d",
   "metadata": {},
   "source": [
    "Utilizando Args:"
   ]
  },
  {
   "cell_type": "code",
   "execution_count": 46,
   "id": "5c4c45e9",
   "metadata": {},
   "outputs": [],
   "source": [
    "def calcula_media(*args):\n",
    "    print(args, type(args))"
   ]
  },
  {
   "cell_type": "code",
   "execution_count": 47,
   "id": "321a64f8",
   "metadata": {},
   "outputs": [
    {
     "name": "stdout",
     "output_type": "stream",
     "text": [
      "(10, 8, 9) <class 'tuple'>\n"
     ]
    }
   ],
   "source": [
    "calcula_media(10, 8, 9)"
   ]
  },
  {
   "cell_type": "markdown",
   "id": "a5bc628b",
   "metadata": {},
   "source": [
    "Redefinindo o método de calcular a média:"
   ]
  },
  {
   "cell_type": "code",
   "execution_count": 48,
   "id": "bbcb38fa",
   "metadata": {},
   "outputs": [
    {
     "data": {
      "text/plain": [
       "9.0"
      ]
     },
     "execution_count": 48,
     "metadata": {},
     "output_type": "execute_result"
    }
   ],
   "source": [
    "def calcula_media(*args):\n",
    "    soma = sum(args)\n",
    "    media = soma / len(args)\n",
    "    return media\n",
    "\n",
    "calcula_media(10, 8, 9)"
   ]
  },
  {
   "cell_type": "markdown",
   "id": "f5dac093",
   "metadata": {},
   "source": [
    "Se precisar utilizar uma margem de erro, por exemplo, o código fica assim:"
   ]
  },
  {
   "cell_type": "code",
   "execution_count": 49,
   "id": "bb114910",
   "metadata": {},
   "outputs": [
    {
     "data": {
      "text/plain": [
       "9.3"
      ]
     },
     "execution_count": 49,
     "metadata": {},
     "output_type": "execute_result"
    }
   ],
   "source": [
    "def calcula_media(*args, margem):\n",
    "    soma = sum(args)\n",
    "    media = soma / len(args)\n",
    "    return media + margem\n",
    "\n",
    "calcula_media(10, 8, 9, margem=0.3)"
   ]
  },
  {
   "cell_type": "markdown",
   "id": "95e1fe4e",
   "metadata": {},
   "source": [
    "Utilizando Cords / kwargs:"
   ]
  },
  {
   "cell_type": "code",
   "execution_count": 50,
   "id": "1ce6e6ac",
   "metadata": {},
   "outputs": [],
   "source": [
    "def print_info(**kwargs):\n",
    "    print(kwargs, type(kwargs))"
   ]
  },
  {
   "cell_type": "code",
   "execution_count": 51,
   "id": "7705e9a1",
   "metadata": {},
   "outputs": [
    {
     "name": "stdout",
     "output_type": "stream",
     "text": [
      "{'nome': 'Pietro', 'sobrenome': 'Ribeiro'} <class 'dict'>\n"
     ]
    }
   ],
   "source": [
    "print_info(nome='Pietro', sobrenome='Ribeiro')"
   ]
  }
 ],
 "metadata": {
  "kernelspec": {
   "display_name": "Python 3 (ipykernel)",
   "language": "python",
   "name": "python3"
  },
  "language_info": {
   "codemirror_mode": {
    "name": "ipython",
    "version": 3
   },
   "file_extension": ".py",
   "mimetype": "text/x-python",
   "name": "python",
   "nbconvert_exporter": "python",
   "pygments_lexer": "ipython3",
   "version": "3.9.12"
  }
 },
 "nbformat": 4,
 "nbformat_minor": 5
}
