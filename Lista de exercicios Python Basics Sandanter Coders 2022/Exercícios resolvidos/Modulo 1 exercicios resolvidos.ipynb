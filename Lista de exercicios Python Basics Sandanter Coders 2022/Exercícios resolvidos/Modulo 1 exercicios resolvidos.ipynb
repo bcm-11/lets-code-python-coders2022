{
 "cells": [
  {
   "cell_type": "markdown",
   "id": "834f5c5d",
   "metadata": {},
   "source": [
    "# Exercícios Módulo 1 - Python Basics"
   ]
  },
  {
   "cell_type": "markdown",
   "id": "f730b95d",
   "metadata": {},
   "source": [
    "### 1. Faça um programa que peça um valor monetário e diminua-o em 15%. Seu programa deve imprimir a mensagem “O novo valor é [valor]”."
   ]
  },
  {
   "cell_type": "code",
   "execution_count": 19,
   "id": "31242779",
   "metadata": {},
   "outputs": [
    {
     "name": "stdout",
     "output_type": "stream",
     "text": [
      "Insira um valor em R$ com decimais separados por ponto: 450\n",
      "O novo valor é R$ 382.5\n"
     ]
    }
   ],
   "source": [
    "valor = input('Insira um valor em R$ com decimais separados por ponto: ')\n",
    "desconto = 0.85\n",
    "novo_valor = float(valor) * desconto\n",
    "\n",
    "print('O novo valor é R$',(novo_valor))"
   ]
  },
  {
   "cell_type": "markdown",
   "id": "7ee13e57",
   "metadata": {},
   "source": [
    "Obs.: Uma outra opção seria usar desconto como um input do usuário, dessa forma não ficaria um valor fixo:"
   ]
  },
  {
   "cell_type": "code",
   "execution_count": 20,
   "id": "2c9214e1",
   "metadata": {},
   "outputs": [
    {
     "name": "stdout",
     "output_type": "stream",
     "text": [
      "Insira um valor em R$ com decimais separados por ponto: 450\n",
      "Qual porcentagem de desconto gostaria de calcular? (Informe sem o caracter %) 15\n",
      "Com o desconto de  0.85 %, o novo valor é R$ 382.5\n"
     ]
    }
   ],
   "source": [
    "valor2 = input('Insira um valor em R$ com decimais separados por ponto: ')\n",
    "desconto_desejado = input('Qual porcentagem de desconto gostaria de calcular? (Informe sem o caracter %) ')\n",
    "desconto_aplicado = (100 - float(desconto_desejado)) / 100\n",
    "novo_valor2 = float(valor2) * desconto_aplicado\n",
    "\n",
    "print('Com o desconto de ',(desconto_aplicado),'%, o novo valor é R$',(novo_valor2))"
   ]
  },
  {
   "cell_type": "markdown",
   "id": "3910d91f",
   "metadata": {},
   "source": [
    "### 2. Faça um programa que leia a validade das informações:\n",
    "\n",
    "- a. Idade: entre 0 e 150;\n",
    "- b. Salário: maior que 0;\n",
    "- c. Sexo: M, F ou Outro;\n",
    "\n",
    "O programa deve imprimir uma mensagem de erro para cada informação inválida."
   ]
  },
  {
   "cell_type": "code",
   "execution_count": 22,
   "id": "f71087af",
   "metadata": {},
   "outputs": [
    {
     "name": "stdout",
     "output_type": "stream",
     "text": [
      "Digite uma idade entre 0 e 150: 85\n",
      "Digite salário R$ com decimais separados por ponto: 1234.56\n",
      "Selecione seu sexo dentre as opções: M / F / Outro: OuTrO\n",
      "_____________________________________________\n",
      "- A idade digitada foi: 85.0\n",
      "- O salário digitado foi: R$ 1234.56\n",
      "- O sexo digitado foi: Outro\n",
      "* Fim das validações *\n"
     ]
    }
   ],
   "source": [
    "idade = int(input('Digite uma idade entre 0 e 150: '))\n",
    "salario = float(input('Digite salário R$ com decimais separados por ponto: '))\n",
    "sexo = input('Selecione seu sexo dentre as opções: M / F / Outro: ').lower()\n",
    "\n",
    "print('_____________________________________________')\n",
    "\n",
    "if 0 <= idade <= 150:\n",
    "    print('- A idade digitada foi:',idade)\n",
    "else:\n",
    "    print('- Idade inválida')\n",
    "\n",
    "if salario >= 0:\n",
    "    print('- O salário digitado foi: R$',salario)\n",
    "else:\n",
    "    print('- Salário inválido')\n",
    "\n",
    "if sexo == 'm':\n",
    "    print('- O sexo digitado foi: Masculino')\n",
    "elif sexo == 'f':\n",
    "    print('- O sexo digitado foi: Feminino')\n",
    "elif sexo == 'outro':\n",
    "    print('- O sexo digitado foi: Outro')\n",
    "else:\n",
    "    print('- Sexo inválido')\n",
    "print('* Fim das validações *')\n",
    "        "
   ]
  },
  {
   "cell_type": "markdown",
   "id": "cda887a0",
   "metadata": {},
   "source": [
    "### 3. Vamos fazer um programa para verificar quem é o assassino de um crime. Para descobrir o assassino, a polícia faz um pequeno questionário com 5 perguntas onde a resposta só pode ser sim ou não:\n",
    "    \n",
    "- a. Mora perto da vítima?\n",
    "- b. Já trabalhou com a vítima?\n",
    "- c. Telefonou para a vítima?\n",
    "- d. Esteve no local do crime?\n",
    "- e. Devia para a vítima?\n",
    "\n",
    "Cada resposta sim dá um ponto para o suspeito. A polícia considera que os suspeitos com 5 pontos são os assassinos, com 4 a 3 pontos são cúmplices e 2 pontos são apenas suspeitos, necessitando outras investigações. Valores iguais ou abaixo de 1 são liberados."
   ]
  },
  {
   "cell_type": "code",
   "execution_count": 24,
   "id": "366320af",
   "metadata": {},
   "outputs": [
    {
     "name": "stdout",
     "output_type": "stream",
     "text": [
      "Suspeito, responda apenas com \"sim\" ou \"não\" as próximas perguntas: \n",
      "___________________________________________\n",
      "Você mora perto da vítima? sim\n",
      "Você já trabalhou com a vítima? sim\n",
      "Você telefonou para a vítima? sim\n",
      "Você esteve no local do crime? sim\n",
      "Você devia para a vítima? sim\n",
      "___________________________________________\n",
      "Você é o assasino!!!\n"
     ]
    }
   ],
   "source": [
    "print('Suspeito, responda apenas com \"sim\" ou \"não\" as próximas perguntas: ')\n",
    "print('___________________________________________')\n",
    "\n",
    "soma_sim = 0\n",
    "soma_nao = 0\n",
    "resposta_incorreta = 0\n",
    "\n",
    "pergunta1 = input('Você mora perto da vítima? ').lower()\n",
    "pergunta2 = input('Você já trabalhou com a vítima? ').lower()\n",
    "pergunta3 = input('Você telefonou para a vítima? ').lower()\n",
    "pergunta4 = input('Você esteve no local do crime? ').lower()\n",
    "pergunta5 = input('Você devia para a vítima? ').lower()\n",
    "perguntas = [pergunta1, pergunta2, pergunta3, pergunta4, pergunta5]\n",
    "\n",
    "for resposta in perguntas:\n",
    "    if resposta == 'sim':\n",
    "        soma_sim = soma_sim+1\n",
    "    elif resposta == 'não' or resposta == 'nao':\n",
    "        soma_nao = soma_nao+1\n",
    "    else:\n",
    "        resposta_incorreta = resposta_incorreta+1\n",
    "\n",
    "print('___________________________________________')\n",
    "\n",
    "if resposta_incorreta != 0:\n",
    "    print('Você deve responder às perguntas com \"sim\" ou \"não\"! Precisamos recomeçar!')\n",
    "elif soma_sim == 5:\n",
    "    print('Você é o assasino!!!')\n",
    "elif soma_sim ==4 or soma_sim ==3:\n",
    "    print('Você é um cúmplice!')\n",
    "elif soma_sim == 2:\n",
    "    print('Você ainda é suspeito, vamos continuar as investigações...')\n",
    "elif soma_sim <= 1 and soma_nao != 0:\n",
    "    print('Você está liberado')\n",
    "\n",
    "#contador de resultados durante testes de código:\n",
    "#print(soma_sim, soma_nao, resposta_incorreta)"
   ]
  },
  {
   "cell_type": "markdown",
   "id": "7d786e87",
   "metadata": {},
   "source": [
    "### 4. Faça um programa que imprima a tabuada do 9 (de 9*1 a 9*10) usando loops."
   ]
  },
  {
   "cell_type": "code",
   "execution_count": 5,
   "id": "8665e63a",
   "metadata": {},
   "outputs": [
    {
     "name": "stdout",
     "output_type": "stream",
     "text": [
      "91\n",
      "100\n",
      "109\n",
      "118\n",
      "127\n",
      "136\n",
      "145\n",
      "154\n",
      "163\n",
      "172\n",
      "181\n",
      "190\n",
      "199\n",
      "208\n",
      "217\n",
      "226\n",
      "235\n",
      "244\n",
      "253\n",
      "262\n",
      "271\n",
      "280\n",
      "289\n",
      "298\n",
      "307\n",
      "316\n",
      "325\n",
      "334\n",
      "343\n",
      "352\n",
      "361\n",
      "370\n",
      "379\n",
      "388\n",
      "397\n",
      "406\n",
      "415\n",
      "424\n",
      "433\n",
      "442\n",
      "451\n",
      "460\n",
      "469\n",
      "478\n",
      "487\n",
      "496\n",
      "505\n",
      "514\n",
      "523\n",
      "532\n",
      "541\n",
      "550\n",
      "559\n",
      "568\n",
      "577\n",
      "586\n",
      "595\n",
      "604\n",
      "613\n",
      "622\n",
      "631\n",
      "640\n",
      "649\n",
      "658\n",
      "667\n",
      "676\n",
      "685\n",
      "694\n",
      "703\n",
      "712\n",
      "721\n",
      "730\n",
      "739\n",
      "748\n",
      "757\n",
      "766\n",
      "775\n",
      "784\n",
      "793\n",
      "802\n",
      "811\n",
      "820\n",
      "829\n",
      "838\n",
      "847\n",
      "856\n",
      "865\n",
      "874\n",
      "883\n",
      "892\n",
      "901\n",
      "910\n",
      "Fim da tabuada de 9\n"
     ]
    }
   ],
   "source": [
    "contador = 91\n",
    "print(contador)\n",
    "\n",
    "while contador <= (910-9):\n",
    "    contador = contador + 9\n",
    "        \n",
    "    print(contador)\n",
    "\n",
    "print('Fim da tabuada de 9')"
   ]
  }
 ],
 "metadata": {
  "kernelspec": {
   "display_name": "Python 3 (ipykernel)",
   "language": "python",
   "name": "python3"
  },
  "language_info": {
   "codemirror_mode": {
    "name": "ipython",
    "version": 3
   },
   "file_extension": ".py",
   "mimetype": "text/x-python",
   "name": "python",
   "nbconvert_exporter": "python",
   "pygments_lexer": "ipython3",
   "version": "3.9.12"
  }
 },
 "nbformat": 4,
 "nbformat_minor": 5
}
